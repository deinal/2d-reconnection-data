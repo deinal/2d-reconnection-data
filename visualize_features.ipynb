{
 "cells": [
  {
   "cell_type": "code",
   "execution_count": 1,
   "metadata": {},
   "outputs": [],
   "source": [
    "import numpy as np\n",
    "import matplotlib.pyplot as plt"
   ]
  },
  {
   "cell_type": "code",
   "execution_count": 2,
   "metadata": {},
   "outputs": [],
   "source": [
    "data = np.load('final-data/3600.npz')"
   ]
  },
  {
   "cell_type": "code",
   "execution_count": 3,
   "metadata": {},
   "outputs": [],
   "source": [
    "earth = data['rho'] == 0\n",
    "not_earth = ~earth\n",
    "\n",
    "features = ['Bx', 'By', 'Bz', 'Ex', 'Ey', 'Ez', 'rho', 'vx', 'vy', 'vz', 'agyrotropy', 'anisotropy']"
   ]
  },
  {
   "cell_type": "code",
   "execution_count": 4,
   "metadata": {},
   "outputs": [],
   "source": [
    "def standardize(feature):\n",
    "    avg = np.mean(feature)\n",
    "    std = np.std(feature)\n",
    "    return (feature - avg) / std"
   ]
  },
  {
   "cell_type": "code",
   "execution_count": 5,
   "metadata": {},
   "outputs": [],
   "source": [
    "data_dict = {}\n",
    "for feature in features:\n",
    "    current_feature = data[feature].copy()\n",
    "    current_feature[not_earth] = standardize(current_feature[not_earth])\n",
    "    current_feature[earth] = 0\n",
    "    data_dict[f'{feature}_standardized'] = current_feature"
   ]
  },
  {
   "cell_type": "code",
   "execution_count": 6,
   "metadata": {},
   "outputs": [],
   "source": [
    "y = data['labeled_domain']"
   ]
  },
  {
   "cell_type": "code",
   "execution_count": 7,
   "metadata": {},
   "outputs": [],
   "source": [
    "y_i = np.argwhere(y)[:,0]\n",
    "x_i = np.argwhere(y)[:,1]"
   ]
  },
  {
   "cell_type": "code",
   "execution_count": 8,
   "metadata": {},
   "outputs": [],
   "source": [
    "def normalize(feature, abs_val=None):\n",
    "    if abs_val is not None:\n",
    "        max_val = np.max(abs_val)\n",
    "    else:\n",
    "        max_val = np.max(feature)\n",
    "    return feature / max_val"
   ]
  },
  {
   "cell_type": "code",
   "execution_count": 9,
   "metadata": {},
   "outputs": [],
   "source": [
    "def euclidian(x, y, z):\n",
    "    return np.sqrt(x**2 + y**2 + z**2)"
   ]
  },
  {
   "cell_type": "code",
   "execution_count": null,
   "metadata": {},
   "outputs": [],
   "source": [
    "for feature in features:\n",
    "    abs_E = euclidian(data['Ex'], data['Ey'], data['Ez'])\n",
    "    abs_B = euclidian(data['Bx'], data['By'], data['Bz'])\n",
    "    abs_v = euclidian(data['vx'], data['vy'], data['vz'])\n",
    "\n",
    "    for feature in features:\n",
    "        current_feature = data[feature].copy()\n",
    "        if feature.startswith('E'):\n",
    "            current_feature[not_earth] = normalize(current_feature[not_earth], abs_E[not_earth])\n",
    "        elif feature.startswith('B'):\n",
    "            current_feature[not_earth] = normalize(current_feature[not_earth], abs_B[not_earth])\n",
    "        elif feature.startswith('v'):\n",
    "            current_feature[not_earth] = normalize(current_feature[not_earth], abs_v[not_earth])\n",
    "        else:\n",
    "            current_feature[not_earth] = normalize(current_feature[not_earth])\n",
    "        current_feature[earth] = 0\n",
    "        data_dict[f'{feature}_normalized'] = current_feature"
   ]
  },
  {
   "cell_type": "code",
   "execution_count": null,
   "metadata": {},
   "outputs": [],
   "source": [
    "data_dict.keys()"
   ]
  },
  {
   "cell_type": "code",
   "execution_count": null,
   "metadata": {},
   "outputs": [],
   "source": [
    "for feature in features:\n",
    "    fig = plt.figure(figsize=(22, 6))\n",
    "\n",
    "    ax1 = fig.add_subplot(1, 3, 1)\n",
    "    ax2 = fig.add_subplot(1, 3, 2)\n",
    "    ax3 = fig.add_subplot(1, 3, 3)\n",
    "\n",
    "    \n",
    "    c1 = ax1.imshow(data[feature])\n",
    "    ax1.scatter(x_i, y_i, marker='x', color='red')\n",
    "    ax1.set_title(feature)\n",
    "    fig.colorbar(c1, ax=ax1)\n",
    "    \n",
    "    c2 = ax2.imshow(data_dict[f'{feature}_standardized'])\n",
    "    ax2.scatter(x_i, y_i, marker='x', color='red')\n",
    "    ax2.set_title(f'{feature} standardized')\n",
    "    fig.colorbar(c2, ax=ax2)\n",
    "    \n",
    "    c3 = ax3.imshow(data_dict[f'{feature}_normalized'])\n",
    "    ax3.scatter(x_i, y_i, marker='x', color='red')\n",
    "    ax3.set_title(f'{feature} normalized')\n",
    "    fig.colorbar(c3, ax=ax3)\n",
    "    \n",
    "    plt.show()"
   ]
  },
  {
   "cell_type": "code",
   "execution_count": null,
   "metadata": {},
   "outputs": [],
   "source": []
  },
  {
   "cell_type": "code",
   "execution_count": null,
   "metadata": {},
   "outputs": [],
   "source": []
  }
 ],
 "metadata": {
  "kernelspec": {
   "display_name": "Spacedust",
   "language": "python",
   "name": "spacedust"
  },
  "language_info": {
   "codemirror_mode": {
    "name": "ipython",
    "version": 3
   },
   "file_extension": ".py",
   "mimetype": "text/x-python",
   "name": "python",
   "nbconvert_exporter": "python",
   "pygments_lexer": "ipython3",
   "version": "3.6.6"
  }
 },
 "nbformat": 4,
 "nbformat_minor": 4
}
